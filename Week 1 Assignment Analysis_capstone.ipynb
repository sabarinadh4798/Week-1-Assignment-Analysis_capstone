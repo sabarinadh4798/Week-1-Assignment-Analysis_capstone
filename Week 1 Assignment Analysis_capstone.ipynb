{
 "cells": [
  {
   "cell_type": "markdown",
   "metadata": {},
   "source": [
    "## **Analysis**##"
   ]
  },
  {
   "cell_type": "markdown",
   "metadata": {},
   "source": [
    "To help Alex in his research of finding the right locality, we need following data:\n",
    "\n",
    "The Localities of Alexanderplatz, Berlin from Wikipedia: https://en.wikipedia.org/wiki/Alexanderplatz\n",
    "\n",
    "The coordinates (latitude, longitude) ot these Localities of Alexanderplatz from Open Street Map APIs\n"
   ]
  },
  {
   "cell_type": "markdown",
   "metadata": {},
   "source": [
    "Through Foursquare, will access the following data:\n",
    "  - Restaurants with in the Localities\n",
    "  - Office venues with in the Localities\n",
    "  - High school with in the the Localities\n",
    "  - Universities with in the Localities"
   ]
  },
  {
   "cell_type": "markdown",
   "metadata": {},
   "source": [
    "Will leverage on the data in order to determine which locality is the most appropriate in order to open the Restaurant."
   ]
  },
  {
   "cell_type": "markdown",
   "metadata": {},
   "source": [
    "## **Data Description** ##"
   ]
  },
  {
   "cell_type": "markdown",
   "metadata": {},
   "source": [
    "As Alex is planning to open a restaurant in Alexanderplatz, and assuming that she is going to rent a place. So first I took the rent dataset from (https://www.zillow.com/research/data/) according to neighborhood wise, so that it's easy for us to check the rent data neighborhood wise. In this dataset I couldn't get all neighborhoods rent information. So I managed to use only those information which I could get from the website. I have cleaned the dataset and I'm going to compare the rent data of only year 2018. Because for this project we just need to analyse the current rent range."
   ]
  },
  {
   "cell_type": "code",
   "execution_count": null,
   "metadata": {},
   "outputs": [],
   "source": []
  }
 ],
 "metadata": {
  "kernelspec": {
   "display_name": "Python 3",
   "language": "python",
   "name": "python3"
  },
  "language_info": {
   "codemirror_mode": {
    "name": "ipython",
    "version": 3
   },
   "file_extension": ".py",
   "mimetype": "text/x-python",
   "name": "python",
   "nbconvert_exporter": "python",
   "pygments_lexer": "ipython3",
   "version": "3.6.8"
  }
 },
 "nbformat": 4,
 "nbformat_minor": 2
}
